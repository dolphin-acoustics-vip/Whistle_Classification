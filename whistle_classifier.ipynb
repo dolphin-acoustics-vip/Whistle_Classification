{
 "cells": [
  {
   "cell_type": "markdown",
   "metadata": {},
   "source": [
    "# Classifying dolphin whistle sounds with a Convolutional Neural Network\n",
    "\n",
    "This jupyter notebook creates a model, trains it and evaluates it.\n",
    "\n",
    "This code is fully os-independent and fs-independent, so you don't have to worry whether you are running on a windows os or IOS or linux, they will all work. But do make sure you set up a virtual environment correctly before continuing.\n",
    "\n",
    "**NB: Something that might seem counter-intuitive at first is that all \"image shape\" parameters in tensorflow and keras expect tuples in (heigh, width) order and not (width, height) or (x, y) as it was previously coded in Josh's jupyter notebook. This file does not use x and y to avoid any confusion.**\n",
    " \n",
    "To understand why tensorflow expects (height, width) order and not the other way around read ahead: it has to do with the way nested loops and 2D arrays work. By convention, a 2D array has sub arrays lined up horizontally (as rows, or x). To loop through the 2D array we would do `for subarray in range(height)` (going down 2D array) then `for element in range(width)` (going across 2D array), effectively needing height, width in this order. "
   ]
  },
  {
   "cell_type": "markdown",
   "metadata": {},
   "source": [
    "Import relevant packages. Set up the virtual environment as specified in the README file to avoid \"dependency-hell\"."
   ]
  },
  {
   "cell_type": "code",
   "execution_count": null,
   "metadata": {},
   "outputs": [],
   "source": [
    "# if you installed all the dependencies already, ignore this block of code\n",
    "!pip3 install -r requirements.txt "
   ]
  },
  {
   "cell_type": "code",
   "execution_count": 1,
   "metadata": {},
   "outputs": [],
   "source": [
    "import matplotlib.pyplot as plt\n",
    "import numpy as np\n",
    "from pathlib import Path\n",
    "from keras.preprocessing.image import ImageDataGenerator\n",
    "from keras.callbacks import EarlyStopping\n",
    "from keras import layers, models \n",
    "from sklearn.metrics import classification_report, confusion_matrix, ConfusionMatrixDisplay"
   ]
  },
  {
   "cell_type": "markdown",
   "metadata": {},
   "source": [
    "# Generate Training, Validation and Test Datasets\n",
    "\n",
    "Here we generate training, validation datasets from the training data directory TRAIN_DATA_DIR and testing datasets from the testing data directory TEST_DATA_DIR\n",
    "\n",
    "Before running the following cell, change the relative paths to the folders on your machine."
   ]
  },
  {
   "cell_type": "code",
   "execution_count": 2,
   "metadata": {},
   "outputs": [],
   "source": [
    "TRAINING_DATA_DIR = Path(\"/Users/matteohe/Desktop/DA/full-dclde-imgs/training-data\")\n",
    "TEST_DATA_DIR = Path(\"/Users/matteohe/Desktop/DA/full-dclde-imgs/testing-data\")\n",
    "\n",
    "HEIGHT, WIDTH = 202, 413\n",
    "IMAGE_SHAPE = (HEIGHT, WIDTH) # target size in imagedatagenerators accept tuple of integers (height, width)\n",
    "VALIDATION_SPLIT = 0.20 # validation split from the training data set"
   ]
  },
  {
   "cell_type": "markdown",
   "metadata": {},
   "source": [
    "The default here is to keep the shuffle parameter to false, since it is pretty much pointless to shuffle the testing data as weights are not updated during the testing phase. But if you are testing something you should change it to true with the following caveat:\n",
    "\n",
    "**NB: If you change the shuffle option in test_generator code to true (in case a metric you want to test requires the order to be shuffled), be mindful of what you did and definitely change the code in the bottom of this file in the Evaluation section, more specifically: the truth labels will need to be collected in a different way than it is right now in the classification report and confusion matrix code blocks.**"
   ]
  },
  {
   "cell_type": "code",
   "execution_count": 3,
   "metadata": {},
   "outputs": [
    {
     "name": "stdout",
     "output_type": "stream",
     "text": [
      "Found 4777 images belonging to 3 classes.\n",
      "Found 1193 images belonging to 3 classes.\n",
      "Found 2557 images belonging to 3 classes.\n"
     ]
    }
   ],
   "source": [
    "# create an imagedatagenerator object that helps split data into training and validation datasets\n",
    "train_datagen = ImageDataGenerator(rescale=1.0 / 255, validation_split=VALIDATION_SPLIT)\n",
    "\n",
    "# create the training data generator\n",
    "train_generator = train_datagen.flow_from_directory(\n",
    "    directory=TRAINING_DATA_DIR,\n",
    "    subset=\"training\",\n",
    "    shuffle=True,\n",
    "    target_size=IMAGE_SHAPE,\n",
    "    color_mode=\"grayscale\",\n",
    ")\n",
    "\n",
    "# create the validation data generator\n",
    "validation_generator = train_datagen.flow_from_directory(\n",
    "    directory=TRAINING_DATA_DIR,\n",
    "    subset=\"validation\",\n",
    "    shuffle=True,\n",
    "    target_size=IMAGE_SHAPE,\n",
    "    color_mode=\"grayscale\",\n",
    ")\n",
    "\n",
    "# create the testing data generator\n",
    "test_generator = ImageDataGenerator(rescale=1.0 / 255).flow_from_directory(\n",
    "    directory=TEST_DATA_DIR,\n",
    "    shuffle=False,\n",
    "    target_size=IMAGE_SHAPE,\n",
    "    color_mode=\"grayscale\",\n",
    ")\n"
   ]
  },
  {
   "cell_type": "markdown",
   "metadata": {},
   "source": [
    "## Building a CNN model and stacking the layers\n",
    "\n",
    "This section is dedicated to creating CNN models. \\\n",
    "Run either one of model1 and model2.\n",
    "- Model 1 uses increasingly more filters further in the model. It also uses spatial dropout before the flattening layer to mitigate overfitting (written by Matteo)\n",
    "- Model 2 is the original one by Josh and Gemma."
   ]
  },
  {
   "cell_type": "markdown",
   "metadata": {},
   "source": [
    "Configurations code for the model. There are a lot of things still worth exploring with the following model code. One thing that can be done is experimenting with dropout layers"
   ]
  },
  {
   "cell_type": "code",
   "execution_count": 4,
   "metadata": {},
   "outputs": [],
   "source": [
    "KERNEL_SIZE = (3, 3) # 3x3 is the optimal size of a kernel 3x3 as agreed by the computing community\n",
    "INPUT_SHAPE = (HEIGHT, WIDTH, 1) # the last channel is used to represent the shape of the pixels. if using rgb set to 3\n",
    "LAYERS = 16\n",
    "DROPOUT_RATE = 0.3"
   ]
  },
  {
   "cell_type": "markdown",
   "metadata": {},
   "source": [
    "### Model 1"
   ]
  },
  {
   "cell_type": "code",
   "execution_count": null,
   "metadata": {},
   "outputs": [],
   "source": [
    "# instantiate model object\n",
    "model = models.Sequential()\n",
    "\n",
    "model.add(\n",
    "    layers.Conv2D(\n",
    "        filters=LAYERS,\n",
    "        kernel_size=KERNEL_SIZE,\n",
    "        activation=\"relu\",\n",
    "        input_shape=INPUT_SHAPE,\n",
    "    )\n",
    ")\n",
    "model.add(layers.BatchNormalization())\n",
    "model.add(layers.MaxPooling2D(pool_size=(2, 2), strides=2))\n",
    "\n",
    "model.add(layers.Conv2D(filters=LAYERS * 2, kernel_size=KERNEL_SIZE, activation=\"relu\"))\n",
    "model.add(layers.BatchNormalization())\n",
    "model.add(layers.MaxPooling2D(pool_size=(2, 2), strides=2))\n",
    "\n",
    "model.add(layers.Conv2D(filters=LAYERS * 4, kernel_size=KERNEL_SIZE, activation=\"relu\"))\n",
    "model.add(layers.BatchNormalization())\n",
    "model.add(layers.MaxPooling2D(pool_size=(2, 2), strides=2))\n",
    "\n",
    "model.add(layers.SpatialDropout2D(rate=DROPOUT_RATE))\n",
    "\n",
    "model.add(layers.Flatten())\n",
    "model.add(layers.Dense(units=LAYERS * 2, activation=\"relu\"))\n",
    "model.add(layers.BatchNormalization())\n",
    "model.add(layers.Dense(units=3, activation=\"softmax\"))  # three final outputs (3 species)\n",
    "\n",
    "model.summary()\n"
   ]
  },
  {
   "cell_type": "markdown",
   "metadata": {},
   "source": [
    "### Model 2"
   ]
  },
  {
   "cell_type": "code",
   "execution_count": 5,
   "metadata": {},
   "outputs": [
    {
     "name": "stdout",
     "output_type": "stream",
     "text": [
      "Model: \"sequential\"\n",
      "_________________________________________________________________\n",
      " Layer (type)                Output Shape              Param #   \n",
      "=================================================================\n",
      " conv2d (Conv2D)             (None, 200, 411, 16)      160       \n",
      "                                                                 \n",
      " batch_normalization (BatchN  (None, 200, 411, 16)     64        \n",
      " ormalization)                                                   \n",
      "                                                                 \n",
      " max_pooling2d (MaxPooling2D  (None, 100, 205, 16)     0         \n",
      " )                                                               \n",
      "                                                                 \n",
      " conv2d_1 (Conv2D)           (None, 98, 203, 16)       2320      \n",
      "                                                                 \n",
      " batch_normalization_1 (Batc  (None, 98, 203, 16)      64        \n",
      " hNormalization)                                                 \n",
      "                                                                 \n",
      " max_pooling2d_1 (MaxPooling  (None, 49, 101, 16)      0         \n",
      " 2D)                                                             \n",
      "                                                                 \n",
      " conv2d_2 (Conv2D)           (None, 47, 99, 16)        2320      \n",
      "                                                                 \n",
      " batch_normalization_2 (Batc  (None, 47, 99, 16)       64        \n",
      " hNormalization)                                                 \n",
      "                                                                 \n",
      " flatten (Flatten)           (None, 74448)             0         \n",
      "                                                                 \n",
      " dense (Dense)               (None, 64)                4764736   \n",
      "                                                                 \n",
      " batch_normalization_3 (Batc  (None, 64)               256       \n",
      " hNormalization)                                                 \n",
      "                                                                 \n",
      " dense_1 (Dense)             (None, 3)                 195       \n",
      "                                                                 \n",
      "=================================================================\n",
      "Total params: 4,770,179\n",
      "Trainable params: 4,769,955\n",
      "Non-trainable params: 224\n",
      "_________________________________________________________________\n"
     ]
    },
    {
     "name": "stderr",
     "output_type": "stream",
     "text": [
      "2022-04-06 10:43:26.071850: I tensorflow/core/platform/cpu_feature_guard.cc:151] This TensorFlow binary is optimized with oneAPI Deep Neural Network Library (oneDNN) to use the following CPU instructions in performance-critical operations:  AVX2 FMA\n",
      "To enable them in other operations, rebuild TensorFlow with the appropriate compiler flags.\n"
     ]
    }
   ],
   "source": [
    "# instantiate model object\n",
    "model = models.Sequential()\n",
    "\n",
    "# Stack layers on the sequential base model\n",
    "model.add(layers.Conv2D(LAYERS, KERNEL_SIZE, activation=\"relu\", input_shape=INPUT_SHAPE))\n",
    "model.add(layers.BatchNormalization())\n",
    "model.add(layers.MaxPooling2D(pool_size=(2, 2)))\n",
    "\n",
    "model.add(layers.Conv2D(LAYERS, KERNEL_SIZE, activation=\"relu\"))\n",
    "model.add(layers.BatchNormalization())\n",
    "model.add(layers.MaxPooling2D(pool_size=(2, 2)))\n",
    "\n",
    "model.add(layers.Conv2D(LAYERS, KERNEL_SIZE, activation=\"relu\"))\n",
    "model.add(layers.BatchNormalization())\n",
    "\n",
    "# Add fully connected layers\n",
    "model.add(layers.Flatten())\n",
    "model.add(layers.Dense(64, activation=\"relu\"))\n",
    "model.add(layers.BatchNormalization())\n",
    "model.add(layers.Dense(3, activation=\"softmax\"))\n",
    "\n",
    "# print out summary of code\n",
    "model.summary()"
   ]
  },
  {
   "cell_type": "markdown",
   "metadata": {},
   "source": [
    "# Training the CNN model"
   ]
  },
  {
   "cell_type": "markdown",
   "metadata": {},
   "source": [
    "Configurations code for the CNN training process."
   ]
  },
  {
   "cell_type": "code",
   "execution_count": 6,
   "metadata": {},
   "outputs": [],
   "source": [
    "# compile model\n",
    "model.compile(\n",
    "    optimizer=\"adam\", \n",
    "    loss=\"categorical_crossentropy\",\n",
    "    metrics=[\"categorical_accuracy\"]\n",
    ")\n",
    "\n",
    "# Configurations\n",
    "STEP_SIZE_TRAIN = train_generator.n // train_generator.batch_size\n",
    "STEP_SIZE_VALID = validation_generator.n // validation_generator.batch_size\n",
    "NUM_EPOCHS = 11\n",
    "ES = EarlyStopping(\"val_loss\", mode=\"auto\", verbose=1, patience=5)"
   ]
  },
  {
   "cell_type": "markdown",
   "metadata": {},
   "source": [
    "Train the network."
   ]
  },
  {
   "cell_type": "code",
   "execution_count": 7,
   "metadata": {},
   "outputs": [
    {
     "name": "stdout",
     "output_type": "stream",
     "text": [
      "[INFO] training network for 11 epochs...\n",
      "Epoch 1/11\n",
      "149/149 [==============================] - 141s 944ms/step - loss: 0.5856 - categorical_accuracy: 0.7760 - val_loss: 2.4656 - val_categorical_accuracy: 0.3767\n",
      "Epoch 2/11\n",
      "149/149 [==============================] - 141s 943ms/step - loss: 0.1165 - categorical_accuracy: 0.9646 - val_loss: 2.6569 - val_categorical_accuracy: 0.4645\n",
      "Epoch 3/11\n",
      "149/149 [==============================] - 141s 948ms/step - loss: 0.0451 - categorical_accuracy: 0.9907 - val_loss: 1.8236 - val_categorical_accuracy: 0.5177\n",
      "Epoch 4/11\n",
      "149/149 [==============================] - 141s 946ms/step - loss: 0.0246 - categorical_accuracy: 0.9954 - val_loss: 3.9119 - val_categorical_accuracy: 0.5642\n",
      "Epoch 5/11\n",
      "149/149 [==============================] - 141s 944ms/step - loss: 0.0461 - categorical_accuracy: 0.9874 - val_loss: 1.5888 - val_categorical_accuracy: 0.5887\n",
      "Epoch 6/11\n",
      "149/149 [==============================] - 141s 945ms/step - loss: 0.0206 - categorical_accuracy: 0.9956 - val_loss: 1.8261 - val_categorical_accuracy: 0.5084\n",
      "Epoch 7/11\n",
      "149/149 [==============================] - 141s 946ms/step - loss: 0.0083 - categorical_accuracy: 0.9989 - val_loss: 1.3019 - val_categorical_accuracy: 0.6149\n",
      "Epoch 8/11\n",
      "149/149 [==============================] - 142s 950ms/step - loss: 0.0038 - categorical_accuracy: 0.9998 - val_loss: 1.1600 - val_categorical_accuracy: 0.6562\n",
      "Epoch 9/11\n",
      "149/149 [==============================] - 142s 955ms/step - loss: 0.0024 - categorical_accuracy: 1.0000 - val_loss: 1.0371 - val_categorical_accuracy: 0.6985\n",
      "Epoch 10/11\n",
      "149/149 [==============================] - 141s 946ms/step - loss: 0.0017 - categorical_accuracy: 1.0000 - val_loss: 0.9947 - val_categorical_accuracy: 0.7044\n",
      "Epoch 11/11\n",
      "149/149 [==============================] - 141s 948ms/step - loss: 0.0014 - categorical_accuracy: 1.0000 - val_loss: 1.0172 - val_categorical_accuracy: 0.7002\n"
     ]
    }
   ],
   "source": [
    "print(\"[INFO] training network for {} epochs...\".format(NUM_EPOCHS))\n",
    "fitted = model.fit(\n",
    "    train_generator,\n",
    "    steps_per_epoch=STEP_SIZE_TRAIN,\n",
    "    validation_data=validation_generator,\n",
    "    validation_steps=STEP_SIZE_VALID,\n",
    "    epochs=NUM_EPOCHS,\n",
    "    callbacks=[ES],\n",
    ")"
   ]
  },
  {
   "cell_type": "markdown",
   "metadata": {},
   "source": [
    "# Evaluating the CNN model"
   ]
  },
  {
   "cell_type": "markdown",
   "metadata": {},
   "source": [
    "### Validation and training accuracy history plot:"
   ]
  },
  {
   "cell_type": "code",
   "execution_count": 22,
   "metadata": {},
   "outputs": [
    {
     "data": {
      "text/plain": [
       "<matplotlib.legend.Legend at 0x15d766be0>"
      ]
     },
     "execution_count": 22,
     "metadata": {},
     "output_type": "execute_result"
    },
    {
     "data": {
      "image/png": "[encoded data removed]",
      "text/plain": [
       "<Figure size 432x288 with 1 Axes>"
      ]
     },
     "metadata": {
      "needs_background": "light"
     },
     "output_type": "display_data"
    }
   ],
   "source": [
    "# Evalutate the network - use validation set\n",
    "accuracy = \"categorical_accuracy\"\n",
    "value_accuracy = \"val_categorical_accuracy\"\n",
    "plt.plot(fitted.history[accuracy], label=accuracy)\n",
    "plt.plot(fitted.history[value_accuracy], label=value_accuracy)\n",
    "plt.xlabel(\"Epoch\")\n",
    "plt.ylabel(\"Accuracy\")\n",
    "plt.ylim([0, 1])\n",
    "plt.title(\"Validation and Training accuracy\")\n",
    "plt.legend(loc=\"lower right\")"
   ]
  },
  {
   "cell_type": "markdown",
   "metadata": {},
   "source": [
    "### Validation and Training Loss History Plot:"
   ]
  },
  {
   "cell_type": "code",
   "execution_count": 12,
   "metadata": {},
   "outputs": [
    {
     "data": {
      "text/plain": [
       "<matplotlib.legend.Legend at 0x15d3f1b50>"
      ]
     },
     "execution_count": 12,
     "metadata": {},
     "output_type": "execute_result"
    },
    {
     "data": {
      "image/png": "[encoded data removed]",
      "text/plain": [
       "<Figure size 432x288 with 1 Axes>"
      ]
     },
     "metadata": {
      "needs_background": "light"
     },
     "output_type": "display_data"
    }
   ],
   "source": [
    "# Evalutate the network - use validation set\n",
    "plt.plot(fitted.history[\"loss\"], label=\"Training loss\")\n",
    "plt.plot(fitted.history[\"val_loss\"], label=\"Validation loss\")\n",
    "plt.title(\"Validation and Training loss\")\n",
    "plt.xlabel(\"Epoch\")\n",
    "plt.ylabel(\"Accuracy\")\n",
    "plt.legend()"
   ]
  },
  {
   "cell_type": "markdown",
   "metadata": {},
   "source": [
    "### Testing the model with the testing dataset"
   ]
  },
  {
   "cell_type": "code",
   "execution_count": 15,
   "metadata": {},
   "outputs": [
    {
     "name": "stdout",
     "output_type": "stream",
     "text": [
      "[INFO] Testing with test-dataset ...\n",
      "80/80 - 20s - loss: 0.5748 - categorical_accuracy: 0.8303 - 20s/epoch - 246ms/step\n",
      "Test accuracy is  0.8302698731422424\n",
      "Test loss is  0.5747528672218323\n"
     ]
    }
   ],
   "source": [
    "print(\"[INFO] Testing with test-dataset ...\")\n",
    "loss, acc = model.evaluate(test_generator, verbose=2)\n",
    "print(\"Test accuracy is \", acc)\n",
    "print(\"Test loss is \", loss)"
   ]
  },
  {
   "cell_type": "markdown",
   "metadata": {},
   "source": [
    "### Classification Report of the model\n",
    "\n",
    "NB: the code below this point will not work and will produce misleading results if the test data is shuffled in the test_generator code. If you did that please change the way you get the predicted labels. You will most likely need to collect them by iterating through the test_generator to get the labels from all the batches. Of course it would be easier if the batch size includes all the data at once."
   ]
  },
  {
   "cell_type": "code",
   "execution_count": 16,
   "metadata": {},
   "outputs": [
    {
     "name": "stdout",
     "output_type": "stream",
     "text": [
      "Running Classification Report...\n",
      "              precision    recall  f1-score   support\n",
      "\n",
      "  bottlenose       0.82      0.88      0.85       962\n",
      "      common       0.85      0.80      0.82       914\n",
      "melon-headed       0.83      0.80      0.81       681\n",
      "\n",
      "    accuracy                           0.83      2557\n",
      "   macro avg       0.83      0.83      0.83      2557\n",
      "weighted avg       0.83      0.83      0.83      2557\n",
      "\n"
     ]
    }
   ],
   "source": [
    "print(\"Running Classification Report...\")\n",
    "test_generator.reset()\n",
    "# get the predicted scores for each class\n",
    "scores = model.predict(test_generator)\n",
    "# get the label with the highest prediction\n",
    "predicted_labels = scores.argmax(axis=1)\n",
    "# get ground truth labels from test_generator.classes\n",
    "true_labels = test_generator.classes\n",
    "\n",
    "# get species names\n",
    "species = dict((v,k) for k,v in (train_generator.class_indices).items())\n",
    "species_names = np.array(list(species.values()))\n",
    "\n",
    "print(\n",
    "    classification_report(\n",
    "        true_labels, \n",
    "        predicted_labels, \n",
    "        target_names = species_names)\n",
    ")"
   ]
  },
  {
   "cell_type": "markdown",
   "metadata": {},
   "source": [
    "### Confusion Matrix of the model"
   ]
  },
  {
   "cell_type": "code",
   "execution_count": 17,
   "metadata": {},
   "outputs": [
    {
     "data": {
      "text/plain": [
       "<sklearn.metrics._plot.confusion_matrix.ConfusionMatrixDisplay at 0x15d3dd490>"
      ]
     },
     "execution_count": 17,
     "metadata": {},
     "output_type": "execute_result"
    },
    {
     "data": {
      "image/png": "[encoded data removed]",
      "text/plain": [
       "<Figure size 432x288 with 2 Axes>"
      ]
     },
     "metadata": {
      "needs_background": "light"
     },
     "output_type": "display_data"
    }
   ],
   "source": [
    "cm = confusion_matrix(true_labels, predicted_labels)\n",
    "display = ConfusionMatrixDisplay(confusion_matrix=cm, display_labels=species_names)\n",
    "display.plot()"
   ]
  },
  {
   "cell_type": "markdown",
   "metadata": {},
   "source": [
    "## Save\n",
    "The current naming format has been decided to be \"date-modelname\"."
   ]
  },
  {
   "cell_type": "code",
   "execution_count": 1,
   "metadata": {},
   "outputs": [],
   "source": [
    "from datetime import date\n",
    "today = date.today()\n",
    "today = str(today)"
   ]
  },
  {
   "cell_type": "code",
   "execution_count": null,
   "metadata": {},
   "outputs": [],
   "source": [
    "# Save the trained model -> could save just the weights or the entire architecture\n",
    "model_name = \"-eric\"\n",
    "model.save(today + model_name + '.model')"
   ]
  }
 ],
 "metadata": {
  "interpreter": {
   "hash": "2095d8fafee06d6eda80f440969be72fcf850039ccc5b044496e51994bf5fd0a"
  },
  "kernelspec": {
   "display_name": "Python 3.9.5 ('dolphin': venv)",
   "language": "python",
   "name": "python3"
  },
  "language_info": {
   "codemirror_mode": {
    "name": "ipython",
    "version": 3
   },
   "file_extension": ".py",
   "mimetype": "text/x-python",
   "name": "python",
   "nbconvert_exporter": "python",
   "pygments_lexer": "ipython3",
   "version": "3.9.10"
  },
  "orig_nbformat": 4
 },
 "nbformat": 4,
 "nbformat_minor": 2
}
